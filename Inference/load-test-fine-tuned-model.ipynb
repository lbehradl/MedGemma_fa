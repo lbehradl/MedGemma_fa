{
 "cells": [
  {
   "cell_type": "code",
   "execution_count": 4,
   "metadata": {
    "execution": {
     "iopub.execute_input": "2025-07-22T15:45:07.846295Z",
     "iopub.status.busy": "2025-07-22T15:45:07.846014Z",
     "iopub.status.idle": "2025-07-22T15:49:28.356954Z",
     "shell.execute_reply": "2025-07-22T15:49:28.356094Z",
     "shell.execute_reply.started": "2025-07-22T15:45:07.846269Z"
    }
   },
   "outputs": [
    {
     "name": "stdout",
     "output_type": "stream",
     "text": [
      "Installing necessary libraries...\n",
      "\u001b[2K     \u001b[90m━━━━━━━━━━━━━━━━━━━━━━━━━━━━━━━━━━━━━━━━\u001b[0m \u001b[32m40.9/40.9 kB\u001b[0m \u001b[31m2.0 MB/s\u001b[0m eta \u001b[36m0:00:00\u001b[0m\n",
      "\u001b[2K     \u001b[90m━━━━━━━━━━━━━━━━━━━━━━━━━━━━━━━━━━━━━━━━\u001b[0m \u001b[32m61.9/61.9 kB\u001b[0m \u001b[31m3.2 MB/s\u001b[0m eta \u001b[36m0:00:00\u001b[0m\n",
      "\u001b[2K   \u001b[90m━━━━━━━━━━━━━━━━━━━━━━━━━━━━━━━━━━━━━━━━\u001b[0m \u001b[32m10.8/10.8 MB\u001b[0m \u001b[31m95.5 MB/s\u001b[0m eta \u001b[36m0:00:00\u001b[0m:00:01\u001b[0m0:01\u001b[0m\n",
      "\u001b[2K   \u001b[90m━━━━━━━━━━━━━━━━━━━━━━━━━━━━━━━━━━━━━━━━\u001b[0m \u001b[32m367.1/367.1 kB\u001b[0m \u001b[31m17.9 MB/s\u001b[0m eta \u001b[36m0:00:00\u001b[0m\n",
      "\u001b[2K   \u001b[90m━━━━━━━━━━━━━━━━━━━━━━━━━━━━━━━━━━━━━━━━\u001b[0m \u001b[32m472.3/472.3 kB\u001b[0m \u001b[31m23.8 MB/s\u001b[0m eta \u001b[36m0:00:00\u001b[0m\n",
      "\u001b[2K   \u001b[90m━━━━━━━━━━━━━━━━━━━━━━━━━━━━━━━━━━━━━━━━\u001b[0m \u001b[32m376.2/376.2 kB\u001b[0m \u001b[31m20.7 MB/s\u001b[0m eta \u001b[36m0:00:00\u001b[0m\n",
      "\u001b[2K   \u001b[90m━━━━━━━━━━━━━━━━━━━━━━━━━━━━━━━━━━━━━━━━\u001b[0m \u001b[32m35.3/35.3 MB\u001b[0m \u001b[31m50.3 MB/s\u001b[0m eta \u001b[36m0:00:00\u001b[0m:00:01\u001b[0m00:01\u001b[0m\n",
      "\u001b[2K   \u001b[90m━━━━━━━━━━━━━━━━━━━━━━━━━━━━━━━━━━━━━━━━\u001b[0m \u001b[32m494.8/494.8 kB\u001b[0m \u001b[31m28.5 MB/s\u001b[0m eta \u001b[36m0:00:00\u001b[0m\n",
      "\u001b[2K   \u001b[90m━━━━━━━━━━━━━━━━━━━━━━━━━━━━━━━━━━━━━━━━\u001b[0m \u001b[32m193.6/193.6 kB\u001b[0m \u001b[31m9.3 MB/s\u001b[0m eta \u001b[36m0:00:00\u001b[0m\n",
      "\u001b[2K   \u001b[90m━━━━━━━━━━━━━━━━━━━━━━━━━━━━━━━━━━━━━━━━\u001b[0m \u001b[32m363.4/363.4 MB\u001b[0m \u001b[31m4.7 MB/s\u001b[0m eta \u001b[36m0:00:00\u001b[0m:00:01\u001b[0m00:01\u001b[0m\n",
      "\u001b[2K   \u001b[90m━━━━━━━━━━━━━━━━━━━━━━━━━━━━━━━━━━━━━━━━\u001b[0m \u001b[32m13.8/13.8 MB\u001b[0m \u001b[31m103.8 MB/s\u001b[0m eta \u001b[36m0:00:00\u001b[0m00:01\u001b[0m0:01\u001b[0m\n",
      "\u001b[2K   \u001b[90m━━━━━━━━━━━━━━━━━━━━━━━━━━━━━━━━━━━━━━━━\u001b[0m \u001b[32m24.6/24.6 MB\u001b[0m \u001b[31m64.4 MB/s\u001b[0m eta \u001b[36m0:00:00\u001b[0m:00:01\u001b[0m00:01\u001b[0m\n",
      "\u001b[2K   \u001b[90m━━━━━━━━━━━━━━━━━━━━━━━━━━━━━━━━━━━━━━━━\u001b[0m \u001b[32m883.7/883.7 kB\u001b[0m \u001b[31m41.6 MB/s\u001b[0m eta \u001b[36m0:00:00\u001b[0m\n",
      "\u001b[2K   \u001b[90m━━━━━━━━━━━━━━━━━━━━━━━━━━━━━━━━━━━━━━━━\u001b[0m \u001b[32m664.8/664.8 MB\u001b[0m \u001b[31m2.4 MB/s\u001b[0m eta \u001b[36m0:00:00\u001b[0m:00:01\u001b[0m00:01\u001b[0m\n",
      "\u001b[2K   \u001b[90m━━━━━━━━━━━━━━━━━━━━━━━━━━━━━━━━━━━━━━━━\u001b[0m \u001b[32m211.5/211.5 MB\u001b[0m \u001b[31m6.7 MB/s\u001b[0m eta \u001b[36m0:00:00\u001b[0m:00:01\u001b[0m00:01\u001b[0m\n",
      "\u001b[2K   \u001b[90m━━━━━━━━━━━━━━━━━━━━━━━━━━━━━━━━━━━━━━━━\u001b[0m \u001b[32m56.3/56.3 MB\u001b[0m \u001b[31m3.4 MB/s\u001b[0m eta \u001b[36m0:00:00\u001b[0m0:00:01\u001b[0m00:01\u001b[0m\n",
      "\u001b[2K   \u001b[90m━━━━━━━━━━━━━━━━━━━━━━━━━━━━━━━━━━━━━━━━\u001b[0m \u001b[32m127.9/127.9 MB\u001b[0m \u001b[31m5.0 MB/s\u001b[0m eta \u001b[36m0:00:00\u001b[0m:00:01\u001b[0m00:01\u001b[0m\n",
      "\u001b[2K   \u001b[90m━━━━━━━━━━━━━━━━━━━━━━━━━━━━━━━━━━━━━━━━\u001b[0m \u001b[32m207.5/207.5 MB\u001b[0m \u001b[31m8.1 MB/s\u001b[0m eta \u001b[36m0:00:00\u001b[0m:00:01\u001b[0m00:01\u001b[0m\n",
      "\u001b[2K   \u001b[90m━━━━━━━━━━━━━━━━━━━━━━━━━━━━━━━━━━━━━━━━\u001b[0m \u001b[32m21.1/21.1 MB\u001b[0m \u001b[31m80.6 MB/s\u001b[0m eta \u001b[36m0:00:00\u001b[0m:00:01\u001b[0m00:01\u001b[0m\n",
      "\u001b[?25h\u001b[31mERROR: pip's dependency resolver does not currently take into account all the packages that are installed. This behaviour is the source of the following dependency conflicts.\n",
      "bigframes 2.8.0 requires google-cloud-bigquery-storage<3.0.0,>=2.30.0, which is not installed.\n",
      "gensim 4.3.3 requires scipy<1.14.0,>=1.7.0, but you have scipy 1.16.0 which is incompatible.\n",
      "ydata-profiling 4.16.1 requires scipy<1.16,>=1.4.1, but you have scipy 1.16.0 which is incompatible.\n",
      "cesium 0.12.4 requires numpy<3.0,>=2.0, but you have numpy 1.26.4 which is incompatible.\n",
      "dopamine-rl 4.1.2 requires gymnasium>=1.0.0, but you have gymnasium 0.29.0 which is incompatible.\n",
      "imbalanced-learn 0.13.0 requires scikit-learn<2,>=1.3.2, but you have scikit-learn 1.2.2 which is incompatible.\n",
      "gcsfs 2025.3.2 requires fsspec==2025.3.2, but you have fsspec 2025.3.0 which is incompatible.\n",
      "plotnine 0.14.5 requires matplotlib>=3.8.0, but you have matplotlib 3.7.2 which is incompatible.\n",
      "bigframes 2.8.0 requires google-cloud-bigquery[bqstorage,pandas]>=3.31.0, but you have google-cloud-bigquery 3.25.0 which is incompatible.\n",
      "bigframes 2.8.0 requires rich<14,>=12.4.4, but you have rich 14.0.0 which is incompatible.\n",
      "mlxtend 0.23.4 requires scikit-learn>=1.3.1, but you have scikit-learn 1.2.2 which is incompatible.\u001b[0m\u001b[31m\n",
      "\u001b[2K   \u001b[90m━━━━━━━━━━━━━━━━━━━━━━━━━━━━━━━━━━━━━━━━\u001b[0m \u001b[32m67.7/67.7 kB\u001b[0m \u001b[31m2.1 MB/s\u001b[0m eta \u001b[36m0:00:00\u001b[0m\n",
      "\u001b[2K   \u001b[90m━━━━━━━━━━━━━━━━━━━━━━━━━━━━━━━━━━━━━━━━\u001b[0m \u001b[32m515.3/515.3 kB\u001b[0m \u001b[31m12.9 MB/s\u001b[0m eta \u001b[36m0:00:00\u001b[0m00:01\u001b[0m\n",
      "\u001b[?25h"
     ]
    },
    {
     "name": "stderr",
     "output_type": "stream",
     "text": [
      "2025-07-22 15:47:14.701158: E external/local_xla/xla/stream_executor/cuda/cuda_fft.cc:477] Unable to register cuFFT factory: Attempting to register factory for plugin cuFFT when one has already been registered\n",
      "WARNING: All log messages before absl::InitializeLog() is called are written to STDERR\n",
      "E0000 00:00:1753199235.070141      36 cuda_dnn.cc:8310] Unable to register cuDNN factory: Attempting to register factory for plugin cuDNN when one has already been registered\n",
      "E0000 00:00:1753199235.172544      36 cuda_blas.cc:1418] Unable to register cuBLAS factory: Attempting to register factory for plugin cuBLAS when one has already been registered\n"
     ]
    },
    {
     "name": "stdout",
     "output_type": "stream",
     "text": [
      "Libraries installed and environment ready for GPU.\n",
      "\n",
      "Logged in to Hugging Face successfully.\n",
      "\n",
      "Loading fine-tuned model from: /kaggle/input/farsi-tuned\n",
      "Tokenizer loaded from fine-tuned model folder.\n",
      "Loading base model 'google/medgemma-4b-it' for GPU...\n"
     ]
    },
    {
     "data": {
      "application/vnd.jupyter.widget-view+json": {
       "model_id": "f118eefc0c2742cf839939767598d0ab",
       "version_major": 2,
       "version_minor": 0
      },
      "text/plain": [
       "config.json:   0%|          | 0.00/2.47k [00:00<?, ?B/s]"
      ]
     },
     "metadata": {},
     "output_type": "display_data"
    },
    {
     "data": {
      "application/vnd.jupyter.widget-view+json": {
       "model_id": "e07cb8a304164c17af5bf348cea536f4",
       "version_major": 2,
       "version_minor": 0
      },
      "text/plain": [
       "model.safetensors.index.json:   0%|          | 0.00/90.6k [00:00<?, ?B/s]"
      ]
     },
     "metadata": {},
     "output_type": "display_data"
    },
    {
     "data": {
      "application/vnd.jupyter.widget-view+json": {
       "model_id": "c15fe079f4084def93aaea7354e13e0a",
       "version_major": 2,
       "version_minor": 0
      },
      "text/plain": [
       "Fetching 2 files:   0%|          | 0/2 [00:00<?, ?it/s]"
      ]
     },
     "metadata": {},
     "output_type": "display_data"
    },
    {
     "data": {
      "application/vnd.jupyter.widget-view+json": {
       "model_id": "2095861e1af94ae58f2c19b3e51352f0",
       "version_major": 2,
       "version_minor": 0
      },
      "text/plain": [
       "model-00002-of-00002.safetensors:   0%|          | 0.00/3.64G [00:00<?, ?B/s]"
      ]
     },
     "metadata": {},
     "output_type": "display_data"
    },
    {
     "data": {
      "application/vnd.jupyter.widget-view+json": {
       "model_id": "6a18b33434ff4edb9cf4985e19bf4718",
       "version_major": 2,
       "version_minor": 0
      },
      "text/plain": [
       "model-00001-of-00002.safetensors:   0%|          | 0.00/4.96G [00:00<?, ?B/s]"
      ]
     },
     "metadata": {},
     "output_type": "display_data"
    },
    {
     "data": {
      "application/vnd.jupyter.widget-view+json": {
       "model_id": "e7b6ad1049274336b508c85ffd38ef3e",
       "version_major": 2,
       "version_minor": 0
      },
      "text/plain": [
       "Loading checkpoint shards:   0%|          | 0/2 [00:00<?, ?it/s]"
      ]
     },
     "metadata": {},
     "output_type": "display_data"
    },
    {
     "data": {
      "application/vnd.jupyter.widget-view+json": {
       "model_id": "40ef3bb7ca6a4f25b92e4d891dc680c7",
       "version_major": 2,
       "version_minor": 0
      },
      "text/plain": [
       "generation_config.json:   0%|          | 0.00/156 [00:00<?, ?B/s]"
      ]
     },
     "metadata": {},
     "output_type": "display_data"
    },
    {
     "name": "stdout",
     "output_type": "stream",
     "text": [
      "Base model loaded for GPU.\n",
      "Applying LoRA adapters from /kaggle/input/farsi-tuned...\n"
     ]
    },
    {
     "name": "stderr",
     "output_type": "stream",
     "text": [
      "Device set to use cuda:0\n"
     ]
    },
    {
     "name": "stdout",
     "output_type": "stream",
     "text": [
      "LoRA adapters applied.\n",
      "Model set to evaluation mode.\n",
      "\n",
      "Creating text generation pipeline...\n",
      "Fine-tuned model ready for inference!\n",
      "\n",
      "--- Test Question ---\n",
      "سوال: چه عصبی در سندروم کارپل تونل به مشکل میخورد\n",
      "\n",
      "Generated Answer: نورون‌های حس‌دار که به دست می‌روند در سندروم کارپل تونل به مشکل می‌خورند.\n",
      "\n",
      "سندروم کارپل تونل یک اختلال عصبی است که در آن عصب مدیان در مچ دست فشرده می‌شود. این عصب حس‌دار به دست می‌رود و مسئول انتقال پیام‌های حس‌دار از دست به مغز است. فشرده شدن این عصب می‌تواند باعث درد، سوزش، بی‌حسی و گز\n"
     ]
    }
   ],
   "source": [
    "# --- Load fine-tuned model for inference on GPU ---\n",
    "\n",
    "# 1. Install required libraries\n",
    "print(\"Installing necessary libraries...\")\n",
    "!pip install -q -U transformers accelerate peft trl scipy datasets\n",
    "!pip install -q -U \"huggingface_hub[cli]\"\n",
    "\n",
    "# 2. Import libraries and setup environment\n",
    "import os\n",
    "import torch\n",
    "from transformers import AutoTokenizer, AutoModelForCausalLM, pipeline\n",
    "from peft import PeftModel\n",
    "from huggingface_hub import login\n",
    "from kaggle_secrets import UserSecretsClient\n",
    "\n",
    "# Set environment for GPU\n",
    "os.environ[\"CUDA_VISIBLE_DEVICES\"] = \"0\"  # Change if needed to select GPU device\n",
    "os.environ[\"TOKENIZERS_PARALLELISM\"] = \"false\"\n",
    "os.environ[\"PYTORCH_CUDA_ALLOC_CONF\"] = \"max_split_size_mb:512\"\n",
    "\n",
    "print(\"Libraries installed and environment ready for GPU.\")\n",
    "\n",
    "# 3. Login to Hugging Face using Kaggle Secrets\n",
    "try:\n",
    "    user_secrets = UserSecretsClient()\n",
    "    secret_value = user_secrets.get_secret(\"HF_TOKEN\")\n",
    "    login(token=secret_value)\n",
    "    print(\"\\nLogged in to Hugging Face successfully.\")\n",
    "except Exception as e:\n",
    "    print(f\"\\nLogin error: {e}\")\n",
    "    print(\"Make sure 'HF_TOKEN' is set in Kaggle Secrets with write access.\")\n",
    "    # login()  # Uncomment to login manually if needed\n",
    "\n",
    "# 4. Set dataset and model paths\n",
    "KAGGLE_DATASET_NAME = \"my-medgemma-finetuned-model\"  # Replace with your dataset name\n",
    "model_path_in_dataset = f\"/kaggle/input/farsi-tuned\"\n",
    "base_model_name = \"google/medgemma-4b-it\"\n",
    "\n",
    "print(f\"\\nLoading fine-tuned model from: {model_path_in_dataset}\")\n",
    "\n",
    "# 5. Load tokenizer from fine-tuned model folder, fallback to base model tokenizer\n",
    "try:\n",
    "    tokenizer = AutoTokenizer.from_pretrained(model_path_in_dataset, trust_remote_code=True)\n",
    "    if tokenizer.pad_token is None:\n",
    "        tokenizer.pad_token = tokenizer.eos_token\n",
    "    tokenizer.padding_side = \"right\"\n",
    "    print(\"Tokenizer loaded from fine-tuned model folder.\")\n",
    "except Exception as e:\n",
    "    print(f\"Error loading tokenizer: {e}\")\n",
    "    tokenizer = AutoTokenizer.from_pretrained(base_model_name, trust_remote_code=True)\n",
    "    if tokenizer.pad_token is None:\n",
    "        tokenizer.pad_token = tokenizer.eos_token\n",
    "    tokenizer.padding_side = \"right\"\n",
    "\n",
    "# 6. Load base model for GPU with float32 precision and automatic device mapping\n",
    "print(f\"Loading base model '{base_model_name}' for GPU...\")\n",
    "base_model = AutoModelForCausalLM.from_pretrained(\n",
    "    base_model_name,\n",
    "    torch_dtype=torch.float32,  # Use float32 for GPU efficiency\n",
    "    device_map=\"auto\",          # Automatically distribute model on GPU(s)\n",
    ")\n",
    "print(\"Base model loaded for GPU.\")\n",
    "\n",
    "# 7. Apply LoRA adapters from the fine-tuned model folder\n",
    "print(f\"Applying LoRA adapters from {model_path_in_dataset}...\")\n",
    "model = PeftModel.from_pretrained(base_model, model_path_in_dataset)\n",
    "print(\"LoRA adapters applied.\")\n",
    "\n",
    "# Set model to evaluation mode for inference\n",
    "model.eval()\n",
    "print(\"Model set to evaluation mode.\")\n",
    "\n",
    "# 8. (Optional) Merge LoRA adapters into base model for deployment (needs more RAM)\n",
    "# model = model.merge_and_unload()\n",
    "# print(\"LoRA adapters merged with base model.\")\n",
    "\n",
    "# 9. Create text generation pipeline for inference on GPU\n",
    "print(\"\\nCreating text generation pipeline...\")\n",
    "text_generator = pipeline(\n",
    "    \"text-generation\",\n",
    "    model=model,\n",
    "    tokenizer=tokenizer,\n",
    "    torch_dtype=torch.float32,\n",
    "    device_map=\"auto\",\n",
    ")\n",
    "\n",
    "print(\"Fine-tuned model ready for inference!\")\n",
    "\n",
    "# 10. Test the model with a sample prompt\n",
    "prompt_test = \"سوال: چه عصبی در سندروم کارپل تونل به مشکل میخورد\\nپاسخ:\"\n",
    "print(f\"\\n--- Test Question ---\\n{prompt_test.replace('پاسخ:', '')}\")\n",
    "outputs_test = text_generator(\n",
    "    prompt_test,\n",
    "    max_new_tokens=100,\n",
    "    do_sample=True,\n",
    "    top_k=50,\n",
    "    top_p=0.95,\n",
    "    temperature=0.7,\n",
    "    pad_token_id=tokenizer.eos_token_id,\n",
    ")\n",
    "generated_text_test = outputs_test[0][\"generated_text\"]\n",
    "answer_test = generated_text_test.replace(prompt_test, \"\").strip()\n",
    "print(f\"Generated Answer: {answer_test}\")\n"
   ]
  },
  {
   "cell_type": "code",
   "execution_count": 5,
   "metadata": {
    "execution": {
     "iopub.execute_input": "2025-07-22T15:51:01.976265Z",
     "iopub.status.busy": "2025-07-22T15:51:01.975996Z",
     "iopub.status.idle": "2025-07-22T15:51:14.488489Z",
     "shell.execute_reply": "2025-07-22T15:51:14.487891Z",
     "shell.execute_reply.started": "2025-07-22T15:51:01.976244Z"
    }
   },
   "outputs": [
    {
     "name": "stderr",
     "output_type": "stream",
     "text": [
      "The following generation flags are not valid and may be ignored: ['temperature', 'top_p']. Set `TRANSFORMERS_VERBOSITY=info` for more details.\n"
     ]
    },
    {
     "name": "stdout",
     "output_type": "stream",
     "text": [
      "\n",
      "--- Test Question ---\n",
      "سوال: چه عصبی در سندروم کارپل تونل به مشکل میخورد\n",
      "\n",
      "Generated Answer: در سندروم کارپل تونل، عصبی که به مشکل میخورد، **نورون اپیکونیاکال** (Ulnar nerve) است.\n",
      "\n",
      "نورون اپیکونیاکال در ناحیه مچ دست، در داخل کارپل تونل قرار دارد. فشار بر این نورون باعث ایجاد علائمی مانند گزگز، سوزن سوزن شدن، ضعف و بی‌حسی در انگشتان اشاره، میانی و قسمت بالایی انگ\n"
     ]
    }
   ],
   "source": [
    "prompt_test = \"سوال: چه عصبی در سندروم کارپل تونل به مشکل میخورد\\nپاسخ:\"\n",
    "print(f\"\\n--- Test Question ---\\n{prompt_test.replace('پاسخ:', '')}\")\n",
    "outputs_test = text_generator(\n",
    "    prompt_test,\n",
    "    max_new_tokens=100,\n",
    "    do_sample=False,\n",
    "    top_k=50,\n",
    "    top_p=0.95,\n",
    "    temperature=0.7,\n",
    "    pad_token_id=tokenizer.eos_token_id,\n",
    ")\n",
    "generated_text_test = outputs_test[0][\"generated_text\"]\n",
    "answer_test = generated_text_test.replace(prompt_test, \"\").strip()\n",
    "print(f\"Generated Answer: {answer_test}\")\n"
   ]
  },
  {
   "cell_type": "code",
   "execution_count": 7,
   "metadata": {
    "execution": {
     "iopub.execute_input": "2025-07-22T15:53:57.504444Z",
     "iopub.status.busy": "2025-07-22T15:53:57.503610Z",
     "iopub.status.idle": "2025-07-22T15:55:02.368295Z",
     "shell.execute_reply": "2025-07-22T15:55:02.367403Z",
     "shell.execute_reply.started": "2025-07-22T15:53:57.504416Z"
    }
   },
   "outputs": [
    {
     "name": "stdout",
     "output_type": "stream",
     "text": [
      "\n",
      "--- Test Question ---\n",
      "سوال: آکرومگالی چیست؟\n",
      "\n",
      "Generated Answer: آکرومگالی یک اختلال نادر است که در آن رشد استخوان‌ها در ناحیه آکروم، که در بالای بازو و دست قرار دارد، مختل می‌شود. این اختلال باعث می‌شود که استخوان‌های بازو و دست به طور غیرطبیعی بزرگ و ضخیم شوند.\n",
      "علائم آکرومگالی می‌تواند شامل موارد زیر باشد:\n",
      "*   بازو و دست‌های بزرگ و ضخیم\n",
      "*   سایش یا ساییدگی پوست در ناحیه آکروم\n",
      "*   درد در بازو و دست\n",
      "*   مشکل در حرکت دادن بازو و دست\n",
      "*   تغییر شکل در ساختار استخوان\n",
      "*   در موارد نادر، مشکلات در سایر قسمت‌های بدن مانند قلب و ریه‌ها\n",
      "آکرومگالی معمولاً ناشی از یک تومور در غده هیپوفیز است که هورمون‌های رشد را ترشح می‌کند. تشخیص آکرومگالی معمولاً از طریق تصویربرداری پزشکی و آزمایش‌های خون انجام می‌شود. درمان آکرومگالی معمولاً شامل جراحی برای برداشتن تومور هیپوفیز و/یا درمان‌های پزشکی برای کاهش سطح هورمون‌های رشد است.\n",
      "\n",
      "اگر فکر می‌کنید که ممکن است آکرومگالی داشته باشید، مهم است که با یک متخصص پزشکی مشورت کنید.\n",
      "در اینجا چند نکته اضافی در مورد آکرومگالی وجود دارد:\n",
      "*   آکرومگالی یک اختلال نادر است، اما می‌تواند بسیار آزاردهنده باشد.\n",
      "*   درمان آکرومگالی می‌تواند به کاهش درد و بهبود عملکرد بازو و دست کمک کند.\n",
      "*   درمان آکرومگالی معمولاً طولانی‌مدت است.\n",
      "*   آکرومگالی می‌تواند خطر ابتلا به سایر بیماری‌ها را افزایش دهد.\n",
      "*   با درمان مناسب، بسیاری از افراد مبتلا به آکرومگالی می‌توانند زندگی عادی داشته باشند.\n",
      "\n",
      "امیدوارم این اطلاعات مفید باشد!\n",
      "آکرومگالی یک بیماری نادر است که در آن رشد استخوان‌ها در ناحیه آکروم (بالای بازو و دست) مختل می‌شود. این اختلال باعث می‌شود که استخوان‌های بازو و دست به طور غیرطبیعی بزرگ و ضخیم شوند.\n",
      "\n",
      "**علائم آکرومگالی:**\n",
      "\n",
      "*   بازو و دست‌های بزرگ و ضخیم\n",
      "*   سایش یا ساییدگی پوست در\n"
     ]
    }
   ],
   "source": [
    "prompt_test = \"سوال: آکرومگالی چیست؟\\nپاسخ:\"\n",
    "print(f\"\\n--- Test Question ---\\n{prompt_test.replace('پاسخ:', '')}\")\n",
    "outputs_test = text_generator(\n",
    "    prompt_test,\n",
    "    max_new_tokens=512,\n",
    "    do_sample=True,\n",
    "    top_k=50,\n",
    "    top_p=0.95,\n",
    "    temperature=0.7,\n",
    "    pad_token_id=tokenizer.eos_token_id,\n",
    ")\n",
    "generated_text_test = outputs_test[0][\"generated_text\"]\n",
    "answer_test = generated_text_test.replace(prompt_test, \"\").strip()\n",
    "print(f\"Generated Answer: {answer_test}\")\n"
   ]
  },
  {
   "cell_type": "code",
   "execution_count": 8,
   "metadata": {
    "execution": {
     "iopub.execute_input": "2025-07-22T15:59:02.866524Z",
     "iopub.status.busy": "2025-07-22T15:59:02.866221Z",
     "iopub.status.idle": "2025-07-22T16:00:07.882573Z",
     "shell.execute_reply": "2025-07-22T16:00:07.881836Z",
     "shell.execute_reply.started": "2025-07-22T15:59:02.866502Z"
    }
   },
   "outputs": [
    {
     "name": "stdout",
     "output_type": "stream",
     "text": [
      "\n",
      "--- Test Question ---\n",
      "سوال: علائم اولیه کم‌خونی چیست؟\n",
      "\n",
      "Generated Answer: علائم اولیه کم‌خونی می‌تواند خفیف و ناچیز باشد و به مرور زمان تشدید شود. برخی از علائم اولیه کم‌خونی عبارتند از:\n",
      "* خستگی و ضعف\n",
      "* سرگیجه و تنگی نفس\n",
      "* سردرد\n",
      "* بی‌حسی یا گزگز در دست‌ها و پاها\n",
      "* کاهش اشتها\n",
      "* بی‌خوابی\n",
      "* مشکلات حافظه و تمرکز\n",
      "* پوست شکننده و کبود شدن آسان\n",
      "* لکه‌های زرد یا قهوه‌ای رنگ زیر پوست (که به آن \"پلاتل هایز\" می‌گویند)\n",
      "\n",
      "اگر این علائم را تجربه می‌کنید، مهم است که به پزشک مراجعه کنید تا علت آن را تشخیص دهد و درمان مناسب را دریافت کنید.\n",
      "* * *\n",
      "توجه: این اطلاعات فقط برای اهداف آموزشی است و نباید به عنوان جایگزینی برای مشاوره پزشکی حرفه‌ای در نظر گرفته شود. همیشه با یک متخصص مراقبت‌های بهداشتی مشورت کنید تا در مورد هر گونه سوال یا نگرانی سلامتی خود صحبت کنید.\n",
      "علائم اولیه کم‌خونی می‌تواند متفاوت باشد و همه افراد ممکن است همه این علائم را تجربه نکنند.\n",
      "* * *\n",
      "علائم کم خونی معمولاً به تدریج ظاهر می‌شوند و به مرور زمان بدتر می‌شوند. برخی از علائم رایج عبارتند از:\n",
      "* خستگی\n",
      "* سرگیجه\n",
      "* تنگی نفس\n",
      "* سردرد\n",
      "* بی‌حسی یا گزگز در دست‌ها و پاها\n",
      "* کاهش اشتها\n",
      "* بی‌خوابی\n",
      "* مشکلات حافظه و تمرکز\n",
      "* پوست شکننده و کبود شدن آسان\n",
      "* لکه‌های زرد یا قهوه‌ای رنگ زیر پوست (که به آن \"پلاتل هایز\" می‌گویند)\n",
      "اگر علائم کم خونی را تجربه می‌کنید، مهم است که به پزشک مراجعه کنید تا علت آن را تشخیص دهد و درمان مناسب را دریافت کنید.\n",
      "* * *\n",
      "علائم اولیه کم‌خونی می‌تواند متفاوت باشد و همه افراد ممکن است همه این علائم را تجربه نکنند. مهم است که به پزشک مراجعه کنید تا علت آن را تشخیص دهد و درمان مناسب را دریافت کنید.\n",
      "* * *\n",
      "علائم اولیه کم‌خونی می‌تواند متفاوت باشد و همه افراد ممکن است همه این علائم را تجربه نکنند. مهم است که به پزشک مراجعه کنید تا علت آن را تشخیص دهد و درمان مناسب را دریافت کنید.\n"
     ]
    }
   ],
   "source": [
    "prompt_test = \"سوال: علائم اولیه کم‌خونی چیست؟\\nپاسخ:\"\n",
    "print(f\"\\n--- Test Question ---\\n{prompt_test.replace('پاسخ:', '')}\")\n",
    "outputs_test = text_generator(\n",
    "    prompt_test,\n",
    "    max_new_tokens=512,\n",
    "    do_sample=True,\n",
    "    top_k=50,\n",
    "    top_p=0.95,\n",
    "    temperature=0.7,\n",
    "    pad_token_id=tokenizer.eos_token_id,\n",
    ")\n",
    "generated_text_test = outputs_test[0][\"generated_text\"]\n",
    "answer_test = generated_text_test.replace(prompt_test, \"\").strip()\n",
    "print(f\"Generated Answer: {answer_test}\")\n"
   ]
  },
  {
   "cell_type": "code",
   "execution_count": 9,
   "metadata": {
    "execution": {
     "iopub.execute_input": "2025-07-22T16:01:41.984268Z",
     "iopub.status.busy": "2025-07-22T16:01:41.983418Z",
     "iopub.status.idle": "2025-07-22T16:02:47.275221Z",
     "shell.execute_reply": "2025-07-22T16:02:47.274526Z",
     "shell.execute_reply.started": "2025-07-22T16:01:41.984243Z"
    }
   },
   "outputs": [
    {
     "name": "stdout",
     "output_type": "stream",
     "text": [
      "\n",
      "--- Test Question ---\n",
      "سوال: چرا تب بالا در کودکان خطرناک است؟\n",
      "\n",
      "Generated Answer: تب بالا در کودکان می‌تواند به دلایل مختلفی خطرناک باشد، از جمله:\n",
      "\n",
      "*   **افزایش خطر عفونت:** تب نشان‌دهنده فعالیت سیستم ایمنی بدن در برابر عفونت است. تب بالا می‌تواند سیستم ایمنی را بیش از حد تحریک کرده و باعث شود بدن در برابر عفونت آسیب‌پذیرتر شود.\n",
      "*   **تشنج:** تب بالا می‌تواند باعث تشنج شود، که می‌تواند به اعصاب آسیب برساند و عوارض جدی داشته باشد.\n",
      "*   **مشکلات قلبی:** تب بالا می‌تواند باعث مشکلات قلبی شود، مانند ضربان قلب سریع یا نامنظم.\n",
      "*   **مشکلات ریوی:** تب بالا می‌تواند باعث مشکلات ریوی شود، مانند پنومونی (عفونت ریه).\n",
      "*   **تومور مغزی:** در موارد نادر، تب بالا می‌تواند نشان‌دهنده وجود تومور مغزی باشد.\n",
      "*   **مشکلات مغزی:** تب بالا می‌تواند باعث مشکلات مغزی شود، مانند التهاب مغزی یا مسمومیت مغزی.\n",
      "\n",
      "بنابراین، اگر کودکی تب بالا دارد، مهم است که فوراً به پزشک مراجعه کنید. پزشک می‌تواند علت تب را تشخیص داده و درمان مناسب را تجویز کند.\n",
      "\n",
      "در اینجا چند نکته اضافی وجود دارد:\n",
      "\n",
      "*   تب بالا در کودکان معمولاً به دلیل عفونت است.\n",
      "*   تب بالا در کودکان معمولاً با سرفه، عطسه، بدن درد و خستگی همراه است.\n",
      "*   تب بالا در کودکان معمولاً با استراحت، مایعات زیاد و داروهای ضد تب قابل درمان است.\n",
      "*   تب بالا در کودکان همیشه خطرناک نیست، اما مهم است که به آن توجه شود.\n",
      "\n",
      "اگر نگران تب بالا در کودکتان هستید، لطفاً با پزشک مشورت کنید.\n",
      "توضیحات بیشتر:\n",
      "\n",
      "*   **تشنج:** تشنج در اثر تب می‌تواند به دلیل افزایش الکترولیت‌ها (مانند سدیم و پتاسیم) در خون یا آسیب به مغز ناشی از التهاب رخ دهد.\n",
      "*   **مشکلات قلبی:** افزایش دمای بدن می‌تواند باعث افزایش ضربان قلب و فشار خون شود. در موارد شدید، می‌تواند منجر به آریتمی (ضربان قلب نامنظم) یا حتی ایست قلبی شود.\n",
      "*   **مشکلات ریوی:** تب بالا می‌تواند باعث التهاب در ریه‌ها شود و خطر ابتلا به پن\n"
     ]
    }
   ],
   "source": [
    "prompt_test = \"سوال: چرا تب بالا در کودکان خطرناک است؟\\nپاسخ:\"\n",
    "print(f\"\\n--- Test Question ---\\n{prompt_test.replace('پاسخ:', '')}\")\n",
    "outputs_test = text_generator(\n",
    "    prompt_test,\n",
    "    max_new_tokens=512,\n",
    "    do_sample=True,\n",
    "    top_k=50,\n",
    "    top_p=0.95,\n",
    "    temperature=0.7,\n",
    "    pad_token_id=tokenizer.eos_token_id,\n",
    ")\n",
    "generated_text_test = outputs_test[0][\"generated_text\"]\n",
    "answer_test = generated_text_test.replace(prompt_test, \"\").strip()\n",
    "print(f\"Generated Answer: {answer_test}\")\n"
   ]
  },
  {
   "cell_type": "code",
   "execution_count": 10,
   "metadata": {
    "execution": {
     "iopub.execute_input": "2025-07-22T16:02:47.276766Z",
     "iopub.status.busy": "2025-07-22T16:02:47.276471Z",
     "iopub.status.idle": "2025-07-22T16:03:52.202748Z",
     "shell.execute_reply": "2025-07-22T16:03:52.201946Z",
     "shell.execute_reply.started": "2025-07-22T16:02:47.276747Z"
    }
   },
   "outputs": [
    {
     "name": "stdout",
     "output_type": "stream",
     "text": [
      "\n",
      "--- Test Question ---\n",
      "سوال: چگونه می‌توان از ابتلا به هپاتیت B پیشگیری کرد؟\n",
      "\n",
      "Generated Answer: ابتلا به هپاتیت B قابل پیشگیری است. با رعایت نکات زیر می‌توانید از ابتلا به این بیماری جلوگیری کنید:\n",
      "\n",
      "1. **واکسیناسیون:**\n",
      "   *   **رایج‌ترین و موثرترین روش پیشگیری، تزریق واکسن هپاتیت B است.** این واکسن بسیار ایمن و موثر است و می‌تواند از 95% تا 100% از ابتلا به هپاتیت B جلوگیری کند.\n",
      "   *   **نحوه تزریق:** واکسن هپاتیت B معمولاً به صورت سه دوز تزریق می‌شود. اولین دوز معمولاً در دوران بارداری (اگر مادر حامل بار باشد) یا در سنین کودکی (در صورت عدم وجود واکسن در دوران بارداری) تزریق می‌شود. دوزهای بعدی معمولاً چند هفته یا چند ماه بعد از اولین دوز تزریق می‌شوند.\n",
      "   *   **توصیه‌ها:**\n",
      "        *   **در دوران بارداری:** مادران باردار باید واکسن هپاتیت B را دریافت کنند.\n",
      "        *   **در دوران کودکی:** کودکان باید در سنین 2، 3 و 4 سالگی واکسن هپاتیت B را دریافت کنند.\n",
      "        *   **در سنین بالاتر:** افراد بالای 18 سال که قبلاً واکسن دریافت نکرده‌اند، می‌توانند واکسن هپاتیت B را دریافت کنند.\n",
      "\n",
      "2.  **اجتناب از تماس با مایعات بدن:**\n",
      "    *   **از تماس مستقیم با مایعات بدن افراد آلوده به هپاتیت B خودداری کنید.** این شامل خون، بزاق، ادرار، مدفوع و سایر مایعات بدن است.\n",
      "    *   **در صورت نیاز به تزریق خون یا انجام عمل جراحی، از خون و سایر محصولات خون و بافت آلوده به هپاتیت B استفاده نشود.**\n",
      "    *   **در صورت آسیب به پوست (به عنوان مثال، خراشیدگی یا برش) از دستکش استفاده کنید.**\n",
      "\n",
      "3.  **استفاده از وسایل حفاظت فردی (PPE):**\n",
      "    *   **در صورت کار با افراد آلوده به هپاتیت B، از وسایل حفاظت فردی مانند دستکش، ماسک و عینک محافظ استفاده کنید.**\n",
      "\n",
      "4.  **رعایت بهداشت فردی:**\n",
      "    *   **\n"
     ]
    }
   ],
   "source": [
    "prompt_test = \"سوال: چگونه می‌توان از ابتلا به هپاتیت B پیشگیری کرد؟\\nپاسخ:\"\n",
    "print(f\"\\n--- Test Question ---\\n{prompt_test.replace('پاسخ:', '')}\")\n",
    "outputs_test = text_generator(\n",
    "    prompt_test,\n",
    "    max_new_tokens=512,\n",
    "    do_sample=True,\n",
    "    top_k=50,\n",
    "    top_p=0.95,\n",
    "    temperature=0.7,\n",
    "    pad_token_id=tokenizer.eos_token_id,\n",
    ")\n",
    "generated_text_test = outputs_test[0][\"generated_text\"]\n",
    "answer_test = generated_text_test.replace(prompt_test, \"\").strip()\n",
    "print(f\"Generated Answer: {answer_test}\")\n"
   ]
  },
  {
   "cell_type": "code",
   "execution_count": 11,
   "metadata": {
    "execution": {
     "iopub.execute_input": "2025-07-22T16:03:52.203894Z",
     "iopub.status.busy": "2025-07-22T16:03:52.203599Z",
     "iopub.status.idle": "2025-07-22T16:04:57.260244Z",
     "shell.execute_reply": "2025-07-22T16:04:57.259513Z",
     "shell.execute_reply.started": "2025-07-22T16:03:52.203867Z"
    }
   },
   "outputs": [
    {
     "name": "stdout",
     "output_type": "stream",
     "text": [
      "\n",
      "--- Test Question ---\n",
      "سوال: ارتباط بین میکروبیوم روده و اختلالات روانی چیست؟\n",
      "\n",
      "Generated Answer: ارتباط بین میکروبیوم روده و اختلالات روانی یک رابطه پیچیده و دوطرفه است. به عبارت دیگر، میکروبیوم روده می‌تواند بر سلامت روان تأثیر بگذارد و در عین حال، اختلالات روانی نیز می‌توانند بر ترکیب و عملکرد میکروبیوم روده تأثیر بگذارند.\n",
      "\n",
      "**نحوه تأثیر میکروبیوم روده بر سلامت روان:**\n",
      "\n",
      "*   **تولید مواد مغذی:** میکروبیوم روده می‌تواند مواد مغذی مانند اسیدهای چرب آمیج (short-chain fatty acids - SCFAs) مانند اسیدهای چرب اولریک (butyric acid)، اسیدهای چرب اسیتیک (acetic acid) و اسیدهای چرب پانتوتنیک (propionic acid) را تولید کند. این مواد مغذی می‌توانند به طور مستقیم بر سیستم عصبی مرکزی (CNS) تأثیر بگذارند و در تنظیم خلق و خو، اضطراب و افسردگی نقش داشته باشند.\n",
      "*   **تولید مواد شیمیایی:** میکروبیوم روده می‌تواند مواد شیمیایی مانند سروتونین، دوپامین و نوروترانسمیترهای دیگر را تولید کند که در تنظیم خلق و خو و عملکرد شناختی نقش دارند.\n",
      "*   **تأثیر بر سیستم ایمنی:** میکروبیوم روده بر سیستم ایمنی بدن تأثیر می‌گذارد و می‌تواند بر سلامت روان تأثیر بگذارد. اختلالات ایمنی می‌توانند باعث بروز اختلالات روانی شوند.\n",
      "*   **تأثیر بر غشای مخاطی مغز:** میکروبیوم روده می‌تواند از طریق سیستم عصبی گوارش (Gastrointestinal Nervous System - GNS) بر غشای مخاطی مغز تأثیر بگذارد. این غشاء به عنوان یک مانع محافظ در برابر سموم و مواد مضر عمل می‌کند و می‌تواند بر سلامت روان تأثیر بگذارد.\n",
      "*   **تأثیر بر التهاب:** میکروبیوم روده می‌تواند سطح التهاب بدن را تنظیم کند. التهاب مزمن می‌تواند باعث بروز اختلالات روانی مانند افسردگی و اضطراب شود.\n",
      "\n",
      "**نحوه تأثیر اختلالات روانی بر میکروبیوم روده:**\n",
      "\n",
      "*   **استرس و اضطراب:** استرس و اضطراب می‌توانند باعث تغییر در رژیم غذایی، کاهش مصرف فیبر و افزایش مصرف غذاهای فرآوری شده شوند. این تغییرات می‌توانند منجر\n"
     ]
    }
   ],
   "source": [
    "prompt_test = \"سوال: ارتباط بین میکروبیوم روده و اختلالات روانی چیست؟\\nپاسخ:\"\n",
    "print(f\"\\n--- Test Question ---\\n{prompt_test.replace('پاسخ:', '')}\")\n",
    "outputs_test = text_generator(\n",
    "    prompt_test,\n",
    "    max_new_tokens=512,\n",
    "    do_sample=True,\n",
    "    top_k=50,\n",
    "    top_p=0.95,\n",
    "    temperature=0.7,\n",
    "    pad_token_id=tokenizer.eos_token_id,\n",
    ")\n",
    "generated_text_test = outputs_test[0][\"generated_text\"]\n",
    "answer_test = generated_text_test.replace(prompt_test, \"\").strip()\n",
    "print(f\"Generated Answer: {answer_test}\")\n"
   ]
  },
  {
   "cell_type": "code",
   "execution_count": null,
   "metadata": {},
   "outputs": [],
   "source": []
  }
 ],
 "metadata": {
  "kernelspec": {
   "display_name": "Python 3 (ipykernel)",
   "language": "python",
   "name": "python3"
  },
  "language_info": {
   "codemirror_mode": {
    "name": "ipython",
    "version": 3
   },
   "file_extension": ".py",
   "mimetype": "text/x-python",
   "name": "python",
   "nbconvert_exporter": "python",
   "pygments_lexer": "ipython3",
   "version": "3.10.12"
  }
 },
 "nbformat": 4,
 "nbformat_minor": 4
}
